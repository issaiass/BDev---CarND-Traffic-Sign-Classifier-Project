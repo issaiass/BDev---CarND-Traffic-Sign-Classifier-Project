{
 "cells": [
  {
   "cell_type": "code",
   "execution_count": null,
   "id": "e6cc185d",
   "metadata": {},
   "outputs": [],
   "source": [
    "def img_arr(imgpath, target_size=(64,64)):\n",
    "    img_arr = list()\n",
    "    for i in range(len(imgpath)):\n",
    "        img = load_img(imgpath[i], color_mode='rgb', target_size=target_size)\n",
    "        img = img_to_array(img).astype('int')\n",
    "        img_arr.append(img)\n",
    "    return asarray(img_arr)"
   ]
  },
  {
   "cell_type": "code",
   "execution_count": null,
   "id": "a34db058",
   "metadata": {},
   "outputs": [],
   "source": [
    "train_images = img_arr('images/' + train_images)\n",
    "valid_images = img_arr('images/' + valid_images)\n",
    "test_images  = img_arr('images/' + test_images)"
   ]
  },
  {
   "cell_type": "code",
   "execution_count": null,
   "id": "08e3b049",
   "metadata": {},
   "outputs": [],
   "source": [
    "train_images.shape"
   ]
  },
  {
   "cell_type": "code",
   "execution_count": null,
   "id": "371c1b57",
   "metadata": {},
   "outputs": [],
   "source": [
    "plt.figure(figsize=(10, 10))\n",
    "for i in range(25):\n",
    "    plt.subplot(5,5,i+1)\n",
    "    plt.xticks([])\n",
    "    plt.yticks([])\n",
    "    plt.grid(False)\n",
    "    plt.subplots_adjust(hspace = 0.6, wspace=0.5)\n",
    "    image = train_images[i]\n",
    "    ix = train_labels[i]\n",
    "    label = classnames['SignName'][ix]\n",
    "    plt.imshow(image)\n",
    "    plt.xlabel(label)\n",
    "plt.show()"
   ]
  },
  {
   "cell_type": "code",
   "execution_count": null,
   "id": "b252ff90",
   "metadata": {},
   "outputs": [],
   "source": [
    "\n",
    "def load_data(datapath):\n",
    "    path, labels = list(), list()\n",
    "    for root, dirs, files in os.walk(datapath, topdown=False):\n",
    "        label = os.path.split(root)[-1]\n",
    "        for name in files:\n",
    "            imagepath = os.path.join(root, name)\n",
    "            path.append(imagepath)\n",
    "            labels.append(label)\n",
    "    return path, labels"
   ]
  },
  {
   "cell_type": "code",
   "execution_count": null,
   "id": "cfe42811",
   "metadata": {},
   "outputs": [],
   "source": [
    "#train_images, train_labels = train_df['Path'].values, train_df['ClassId'].values\n",
    "#test_images, test_labels = test_df['Path'].values, test_df['ClassId'].values"
   ]
  },
  {
   "cell_type": "code",
   "execution_count": null,
   "id": "04e39c38",
   "metadata": {},
   "outputs": [],
   "source": [
    "#train_images[0], train_labels[0]"
   ]
  },
  {
   "cell_type": "code",
   "execution_count": null,
   "id": "9f96b012",
   "metadata": {},
   "outputs": [],
   "source": [
    "#test_images[0], test_labels[0]"
   ]
  },
  {
   "cell_type": "code",
   "execution_count": null,
   "id": "aa5dd8eb",
   "metadata": {},
   "outputs": [],
   "source": [
    "#from sklearn.model_selection import train_test_split\n",
    "\n",
    "#train_images, valid_images, train_labels, valid_labels = train_test_split(train_images, train_labels, \n",
    "#                                                                          test_size=0.2, random_state=42)"
   ]
  },
  {
   "cell_type": "code",
   "execution_count": null,
   "id": "e06b3620",
   "metadata": {},
   "outputs": [],
   "source": [
    "#classnames = pd.read_csv('signnames.csv')"
   ]
  },
  {
   "cell_type": "code",
   "execution_count": null,
   "id": "3af89c2a",
   "metadata": {},
   "outputs": [],
   "source": [
    "#classnames.head()"
   ]
  },
  {
   "cell_type": "code",
   "execution_count": null,
   "id": "0ae055b9",
   "metadata": {},
   "outputs": [],
   "source": []
  },
  {
   "cell_type": "code",
   "execution_count": null,
   "id": "6df2edcc",
   "metadata": {},
   "outputs": [],
   "source": []
  }
 ],
 "metadata": {
  "kernelspec": {
   "display_name": "Python 3 (ipykernel)",
   "language": "python",
   "name": "python3"
  },
  "language_info": {
   "codemirror_mode": {
    "name": "ipython",
    "version": 3
   },
   "file_extension": ".py",
   "mimetype": "text/x-python",
   "name": "python",
   "nbconvert_exporter": "python",
   "pygments_lexer": "ipython3",
   "version": "3.9.7"
  }
 },
 "nbformat": 4,
 "nbformat_minor": 5
}
